{
 "cells": [
  {
   "cell_type": "markdown",
   "metadata": {},
   "source": [
    "### prob 1:"
   ]
  },
  {
   "cell_type": "code",
   "execution_count": 5,
   "metadata": {},
   "outputs": [
    {
     "name": "stdout",
     "output_type": "stream",
     "text": [
      "Hello, world!\n"
     ]
    }
   ],
   "source": [
    "def greet(name):\n",
    "    return print(\"Hello, \" + name + \"!\")\n",
    "\n",
    "word= \"world\"\n",
    "greet(word)"
   ]
  },
  {
   "cell_type": "markdown",
   "metadata": {},
   "source": [
    "### Prob 2"
   ]
  },
  {
   "cell_type": "code",
   "execution_count": 8,
   "metadata": {},
   "outputs": [
    {
     "name": "stdout",
     "output_type": "stream",
     "text": [
      "Just right. :)\n",
      "Too large!\n",
      "Too small!\n"
     ]
    }
   ],
   "source": [
    "def goldilocks(l):\n",
    "    if l>=140 and l<=150:\n",
    "        return print(\"Just right. :)\")\n",
    "    elif l< 140:\n",
    "        return print(\"Too small!\")\n",
    "    else:\n",
    "        return print(\"Too large!\")\n",
    "    \n",
    "l1=145\n",
    "l2=155\n",
    "l3=135\n",
    "goldilocks(l1)\n",
    "goldilocks(l2)\n",
    "goldilocks(l3)"
   ]
  },
  {
   "cell_type": "markdown",
   "metadata": {},
   "source": [
    "### Prob 3"
   ]
  },
  {
   "cell_type": "code",
   "execution_count": 15,
   "metadata": {},
   "outputs": [
    {
     "name": "stdout",
     "output_type": "stream",
     "text": [
      "[1, 4, 9]\n"
     ]
    }
   ],
   "source": [
    "def square_list(nums):\n",
    "    list_sq = []  # Inizializzo la lista per memorizzare i quadrati\n",
    "    for i in range(len(nums)):\n",
    "        list_sq.append(nums[i]**2)  # Uso nums[i] invece di list(i)\n",
    "    return list_sq\n",
    "\n",
    "list1 = [1, 2, 3]  # Rimuovo le parentesi tonde extra\n",
    "print(square_list(list1))\n"
   ]
  },
  {
   "cell_type": "markdown",
   "metadata": {},
   "source": [
    "or using list comprehension:"
   ]
  },
  {
   "cell_type": "code",
   "execution_count": 16,
   "metadata": {},
   "outputs": [
    {
     "name": "stdout",
     "output_type": "stream",
     "text": [
      "[1, 4, 9]\n"
     ]
    }
   ],
   "source": [
    "def square_list(nums):\n",
    "    return [num**2 for num in nums]  # List comprehension per semplificare\n",
    "\n",
    "list1 = [1, 2, 3]\n",
    "print(square_list(list1))\n"
   ]
  },
  {
   "cell_type": "markdown",
   "metadata": {},
   "source": [
    "### Prob 4"
   ]
  },
  {
   "cell_type": "code",
   "execution_count": 20,
   "metadata": {},
   "outputs": [
    {
     "name": "stdout",
     "output_type": "stream",
     "text": [
      "[1, 1, 2, 3, 5, 8, 13, 21]\n"
     ]
    }
   ],
   "source": [
    "def fibonacci_stop(lim):\n",
    "    fib = [1, 1]  # Lista iniziale con i primi due numeri di Fibonacci\n",
    "    while fib[-1] + fib[-2] < lim:  # Controlla la somma prima di aggiungerla\n",
    "        fib.append(fib[-1] + fib[-2])  # Aggiunge il nuovo numero\n",
    "\n",
    "    return fib\n",
    "\n",
    "lim_up = 30\n",
    "print(fibonacci_stop(lim_up))\n"
   ]
  },
  {
   "cell_type": "markdown",
   "metadata": {},
   "source": [
    "### Prob 5"
   ]
  },
  {
   "cell_type": "markdown",
   "metadata": {},
   "source": []
  },
  {
   "cell_type": "code",
   "execution_count": 28,
   "metadata": {},
   "outputs": [
    {
     "name": "stdout",
     "output_type": "stream",
     "text": [
      "[-999, 2, 6, 95]\n"
     ]
    }
   ],
   "source": [
    "def clean_pitch(x, status):\n",
    "    clean_sig=[]\n",
    "    for i in range(len(x)):\n",
    "        if (x[i] <=0 or x[i]>= 90) and status[i]!=0:\n",
    "           clean_sig.append(-999)\n",
    "        else:\n",
    "            clean_sig.append(x[i])\n",
    "    return clean_sig\n",
    "    \n",
    "\n",
    "x = [-1, 2, 6, 95]  # \"raw\" pitch angle at four time steps\n",
    "status = [1, 0, 0, 0]  # status signal\n",
    "print(clean_pitch(x, status))\n"
   ]
  }
 ],
 "metadata": {
  "kernelspec": {
   "display_name": "base",
   "language": "python",
   "name": "python3"
  },
  "language_info": {
   "codemirror_mode": {
    "name": "ipython",
    "version": 3
   },
   "file_extension": ".py",
   "mimetype": "text/x-python",
   "name": "python",
   "nbconvert_exporter": "python",
   "pygments_lexer": "ipython3",
   "version": "3.12.7"
  }
 },
 "nbformat": 4,
 "nbformat_minor": 2
}
